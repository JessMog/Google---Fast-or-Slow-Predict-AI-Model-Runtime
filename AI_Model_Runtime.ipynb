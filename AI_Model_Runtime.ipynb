{
  "nbformat": 4,
  "nbformat_minor": 0,
  "metadata": {
    "colab": {
      "provenance": [],
      "authorship_tag": "ABX9TyNq9sWW3M8Q9vC/zvOkrAeI",
      "include_colab_link": true
    },
    "kernelspec": {
      "name": "python3",
      "display_name": "Python 3"
    },
    "language_info": {
      "name": "python"
    }
  },
  "cells": [
    {
      "cell_type": "markdown",
      "metadata": {
        "id": "view-in-github",
        "colab_type": "text"
      },
      "source": [
        "<a href=\"https://colab.research.google.com/github/JessMog/Google---Fast-or-Slow-Predict-AI-Model-Runtime/blob/main/AI_Model_Runtime.ipynb\" target=\"_parent\"><img src=\"https://colab.research.google.com/assets/colab-badge.svg\" alt=\"Open In Colab\"/></a>"
      ]
    },
    {
      "cell_type": "code",
      "execution_count": null,
      "metadata": {
        "id": "7MLOGNdjUn4X"
      },
      "outputs": [],
      "source": [
        "!git config --global user.name \"your_username\"\n",
        "!git config --global user.email \"youremail@yahoo.com\"\n",
        "!git config --global user.password \"y0urp4SSw0Rd!\""
      ]
    }
  ]
}